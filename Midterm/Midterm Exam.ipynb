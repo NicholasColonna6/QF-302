{
 "cells": [
  {
   "cell_type": "markdown",
   "metadata": {},
   "source": [
    "# Nicholas Colonna\n",
    "## Midterm Exam\n",
    "### \"I pledge my honor that I have abided by the Stevens Honor System.\" -ncolonna"
   ]
  },
  {
   "cell_type": "code",
   "execution_count": 1,
   "metadata": {},
   "outputs": [],
   "source": [
    "import pandas as pd\n",
    "import numpy as np\n",
    "import matplotlib.pyplot as plt"
   ]
  },
  {
   "cell_type": "code",
   "execution_count": 2,
   "metadata": {},
   "outputs": [
    {
     "data": {
      "text/html": [
       "<div>\n",
       "<style scoped>\n",
       "    .dataframe tbody tr th:only-of-type {\n",
       "        vertical-align: middle;\n",
       "    }\n",
       "\n",
       "    .dataframe tbody tr th {\n",
       "        vertical-align: top;\n",
       "    }\n",
       "\n",
       "    .dataframe thead th {\n",
       "        text-align: right;\n",
       "    }\n",
       "</style>\n",
       "<table border=\"1\" class=\"dataframe\">\n",
       "  <thead>\n",
       "    <tr style=\"text-align: right;\">\n",
       "      <th></th>\n",
       "      <th>Date</th>\n",
       "      <th>Open</th>\n",
       "      <th>High</th>\n",
       "      <th>Low</th>\n",
       "      <th>Close</th>\n",
       "      <th>Adj Close</th>\n",
       "      <th>Volume</th>\n",
       "    </tr>\n",
       "  </thead>\n",
       "  <tbody>\n",
       "    <tr>\n",
       "      <th>0</th>\n",
       "      <td>2013-10-22</td>\n",
       "      <td>55.405716</td>\n",
       "      <td>55.594284</td>\n",
       "      <td>45.928570</td>\n",
       "      <td>46.074287</td>\n",
       "      <td>46.074287</td>\n",
       "      <td>181099800</td>\n",
       "    </tr>\n",
       "    <tr>\n",
       "      <th>1</th>\n",
       "      <td>2013-10-23</td>\n",
       "      <td>45.331429</td>\n",
       "      <td>47.884285</td>\n",
       "      <td>45.285713</td>\n",
       "      <td>47.177143</td>\n",
       "      <td>47.177143</td>\n",
       "      <td>58376500</td>\n",
       "    </tr>\n",
       "    <tr>\n",
       "      <th>2</th>\n",
       "      <td>2013-10-24</td>\n",
       "      <td>47.348572</td>\n",
       "      <td>48.121429</td>\n",
       "      <td>46.237144</td>\n",
       "      <td>47.317142</td>\n",
       "      <td>47.317142</td>\n",
       "      <td>33559400</td>\n",
       "    </tr>\n",
       "    <tr>\n",
       "      <th>3</th>\n",
       "      <td>2013-10-25</td>\n",
       "      <td>47.285713</td>\n",
       "      <td>48.171429</td>\n",
       "      <td>46.558571</td>\n",
       "      <td>46.861427</td>\n",
       "      <td>46.861427</td>\n",
       "      <td>24062500</td>\n",
       "    </tr>\n",
       "    <tr>\n",
       "      <th>4</th>\n",
       "      <td>2013-10-28</td>\n",
       "      <td>46.430000</td>\n",
       "      <td>47.279999</td>\n",
       "      <td>44.544285</td>\n",
       "      <td>44.857143</td>\n",
       "      <td>44.857143</td>\n",
       "      <td>34260800</td>\n",
       "    </tr>\n",
       "  </tbody>\n",
       "</table>\n",
       "</div>"
      ],
      "text/plain": [
       "         Date       Open       High        Low      Close  Adj Close  \\\n",
       "0  2013-10-22  55.405716  55.594284  45.928570  46.074287  46.074287   \n",
       "1  2013-10-23  45.331429  47.884285  45.285713  47.177143  47.177143   \n",
       "2  2013-10-24  47.348572  48.121429  46.237144  47.317142  47.317142   \n",
       "3  2013-10-25  47.285713  48.171429  46.558571  46.861427  46.861427   \n",
       "4  2013-10-28  46.430000  47.279999  44.544285  44.857143  44.857143   \n",
       "\n",
       "      Volume  \n",
       "0  181099800  \n",
       "1   58376500  \n",
       "2   33559400  \n",
       "3   24062500  \n",
       "4   34260800  "
      ]
     },
     "execution_count": 2,
     "metadata": {},
     "output_type": "execute_result"
    }
   ],
   "source": [
    "nflx = pd.read_csv('NFLX-2013_2018.csv')\n",
    "nflx.head()"
   ]
  },
  {
   "cell_type": "markdown",
   "metadata": {},
   "source": [
    "In this section, I calculate the log returns for NFLX as well as beta."
   ]
  },
  {
   "cell_type": "code",
   "execution_count": 10,
   "metadata": {},
   "outputs": [
    {
     "name": "stdout",
     "output_type": "stream",
     "text": [
      "Beta = 0.08695652173913043\n",
      "\n",
      "Log Returns:\n"
     ]
    },
    {
     "data": {
      "text/plain": [
       "0            NaN\n",
       "1       0.023654\n",
       "2       0.002963\n",
       "3      -0.009678\n",
       "4      -0.043712\n",
       "5       0.041484\n",
       "6      -0.028386\n",
       "7       0.013550\n",
       "8       0.020837\n",
       "9       0.024984\n",
       "10      0.011486\n",
       "11     -0.017338\n",
       "12     -0.026477\n",
       "13      0.024300\n",
       "14      0.008948\n",
       "15     -0.012447\n",
       "16      0.004634\n",
       "17      0.021510\n",
       "18      0.020771\n",
       "19     -0.023109\n",
       "20     -0.013195\n",
       "21      0.006590\n",
       "22      0.026105\n",
       "23     -0.001867\n",
       "24      0.006847\n",
       "25      0.014062\n",
       "26      0.020316\n",
       "27      0.009090\n",
       "28     -0.005153\n",
       "29     -0.002697\n",
       "          ...   \n",
       "1229   -0.000775\n",
       "1230    0.021354\n",
       "1231    0.038634\n",
       "1232   -0.004877\n",
       "1233   -0.009799\n",
       "1234   -0.039758\n",
       "1235    0.048199\n",
       "1236   -0.001879\n",
       "1237   -0.004370\n",
       "1238   -0.011479\n",
       "1239    0.023044\n",
       "1240   -0.000487\n",
       "1241    0.022615\n",
       "1242    0.007461\n",
       "1243   -0.017435\n",
       "1244    0.019324\n",
       "1245   -0.011311\n",
       "1246   -0.000239\n",
       "1247   -0.036186\n",
       "1248   -0.034409\n",
       "1249   -0.006424\n",
       "1250    0.018757\n",
       "1251   -0.087556\n",
       "1252   -0.014807\n",
       "1253    0.055898\n",
       "1254   -0.019118\n",
       "1255    0.039061\n",
       "1256    0.051481\n",
       "1257   -0.050586\n",
       "1258   -0.041338\n",
       "Name: LogRet, Length: 1259, dtype: float64"
      ]
     },
     "execution_count": 10,
     "metadata": {},
     "output_type": "execute_result"
    }
   ],
   "source": [
    "n=22\n",
    "nflx['LogRet'] = np.log(nflx['Adj Close']) - np.log(nflx['Adj Close'].shift(1))\n",
    "\n",
    "\n",
    "beta = 2 / (n + 1)\n",
    "\n",
    "print('Beta =', beta)\n",
    "print('\\nLog Returns:')\n",
    "nflx['LogRet']"
   ]
  },
  {
   "cell_type": "markdown",
   "metadata": {},
   "source": [
    "(a) In this section, I implement the EWMA forcasting method to estimate the expected volatility."
   ]
  },
  {
   "cell_type": "code",
   "execution_count": 26,
   "metadata": {},
   "outputs": [
    {
     "data": {
      "text/plain": [
       "count    1.237000e+03\n",
       "mean     3.224598e-02\n",
       "std      7.288785e-16\n",
       "min      3.224598e-02\n",
       "25%      3.224598e-02\n",
       "50%      3.224598e-02\n",
       "75%      3.224598e-02\n",
       "max      3.224598e-02\n",
       "Name: vol, dtype: float64"
      ]
     },
     "execution_count": 26,
     "metadata": {},
     "output_type": "execute_result"
    }
   ],
   "source": [
    "beta_array = np.array([(2/(n+1))**i for i in range(1, n)])\n",
    "sigma_array = []\n",
    "for i in range(0, len(nflx['LogRet'][0:-22])):\n",
    "    sigma_array.append(np.array([(((nflx['LogRet'][-(n+i):-i] - nflx['LogRet'][-(n+i):-i].mean()) ** 2).mean()) ** (1/2) for i in range(1,n)]))\n",
    "\n",
    "EWMA_series = []\n",
    "for i in range(0, len(sigma_array)):\n",
    "    EWMA_series.append(((beta_array * sigma_array[i]).sum()) / beta_array.sum())\n",
    "\n",
    "EWMA = pd.DataFrame({'vol':EWMA_series})\n",
    "EWMA['vol'].describe()"
   ]
  },
  {
   "cell_type": "markdown",
   "metadata": {},
   "source": [
    "(b) Using Roll's model, I calculate gamma0 and gamma1 in order to calculate the volatility."
   ]
  },
  {
   "cell_type": "code",
   "execution_count": 27,
   "metadata": {},
   "outputs": [
    {
     "name": "stdout",
     "output_type": "stream",
     "text": [
      "[[17.79506101  0.3388176 ]\n",
      " [ 0.3388176  17.95665788]] \n",
      "\n",
      "Gamma 0: 17.956657877162414\n",
      "Gamma 1: 0.3388176029651567\n"
     ]
    }
   ],
   "source": [
    "covar = np.cov((nflx['Adj Close'].shift(1) - nflx['Adj Close'].shift(2))[2:], (nflx['Adj Close'] - nflx['Adj Close'].shift(1))[2:])\n",
    "print(covar, '\\n')\n",
    "gamma0 = covar[1,1]\n",
    "gamma1 = covar[0,1]\n",
    "\n",
    "print('Gamma 0:', gamma0)\n",
    "print('Gamma 1:', gamma1)"
   ]
  },
  {
   "cell_type": "markdown",
   "metadata": {},
   "source": [
    "In this step, I calculate the bid-ask spread and the fundamental volatility of NFLX."
   ]
  },
  {
   "cell_type": "code",
   "execution_count": 30,
   "metadata": {},
   "outputs": [
    {
     "name": "stdout",
     "output_type": "stream",
     "text": [
      "Bid-Ask Spread: 1.1641608187276475\n",
      "Fundamental Volatility: 18.63429308309273\n"
     ]
    }
   ],
   "source": [
    "c = np.sqrt(np.abs(gamma1))\n",
    "\n",
    "bid_ask = 2 * c\n",
    "fund_vol = gamma0 + 2*gamma1\n",
    "\n",
    "print('Bid-Ask Spread:', bid_ask)\n",
    "print('Fundamental Volatility:', fund_vol)"
   ]
  },
  {
   "cell_type": "markdown",
   "metadata": {},
   "source": [
    "(c) The mean EWMA expected volatility was 0.0322459, while the Rolls model got a value for gamma0 of 0.338818. As you can see, the EWMA model gave a slightly lower value than that of the Roll Model. Gamma0 in the Roll model is the variance, while the EWMA expected volatility was a standard deviation calculation.\n",
    "\n",
    "Sigma^2 is the fundamental volatility due to Roll's model, which is different than gamma0, which is the lag 0 autocovariance of the price changes, also known as variance. Gamma0 is a known value that can be calculated from the data, while Sigma^2 is a parameter to the Roll model that is estimated using a combination of Gamma0 and Gamma1, the first order autocovariance of the price changes. As you can see from the results, the fundamental volatility is close to the value of Gamma0."
   ]
  }
 ],
 "metadata": {
  "kernelspec": {
   "display_name": "Python 3",
   "language": "python",
   "name": "python3"
  },
  "language_info": {
   "codemirror_mode": {
    "name": "ipython",
    "version": 3
   },
   "file_extension": ".py",
   "mimetype": "text/x-python",
   "name": "python",
   "nbconvert_exporter": "python",
   "pygments_lexer": "ipython3",
   "version": "3.6.5"
  }
 },
 "nbformat": 4,
 "nbformat_minor": 2
}
